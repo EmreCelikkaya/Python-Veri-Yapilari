{
 "cells": [
  {
   "cell_type": "markdown",
   "metadata": {},
   "source": [
    "# VERİ YAPILARI ÖDEVLER"
   ]
  },
  {
   "cell_type": "markdown",
   "metadata": {},
   "source": [
    "### 1-)İçerisinde 7 günün bulunduğu bir sözlük oluşturun. Kullanıcıya günleri listeleyerek 2 farklı gün seçmesini isteyin (örneğin pazartesi ve salı için \"12\" gibi). Kullanıcının seçtiği günleri sözlükten silerek kalan 5 günü ekrana yazdırın.\n"
   ]
  },
  {
   "cell_type": "code",
   "execution_count": 33,
   "metadata": {},
   "outputs": [
    {
     "name": "stdout",
     "output_type": "stream",
     "text": [
      "HAFTANIN İKİ GÜNÜNÜ SEÇİNİZ:12\n",
      "Güncel liste:['ÇARŞAMBA', 'PERŞEMBE', 'CUMA', 'CUMARTESİ', 'PAZAR']\n"
     ]
    }
   ],
   "source": [
    "HAFTANIN_GÜNLERİ={ \"1\":\"PAZARTESİ\",\n",
    "                   \"2\":\"SALI\",\n",
    "                   \"3\":\"ÇARŞAMBA\",\n",
    "                   \"4\":\"PERŞEMBE\",\n",
    "                   \"5\":\"CUMA\",\n",
    "                   \"6\":\"CUMARTESİ\",\n",
    "                   \"7\":\"PAZAR\" }\n",
    "X=input(\"HAFTANIN İKİ GÜNÜNÜ SEÇİNİZ:\")\n",
    "print(\"Güncel liste:\", end=\"\")\n",
    "del HAFTANIN_GÜNLERİ[X[0]]\n",
    "del HAFTANIN_GÜNLERİ[X[1]]\n",
    "print(list(HAFTANIN_GÜNLERİ.values()))"
   ]
  },
  {
   "cell_type": "markdown",
   "metadata": {},
   "source": [
    "###  2-)Ayların kaç gün çektiğini karıştırabiliyoruz. Bunun için bir liste oluşturun ancak listenizde ay isimleri ve gün sayıları beraber bulunsun (ipucu: listenizin içinde başka bir veri yapısı yer alacak!)."
   ]
  },
  {
   "cell_type": "code",
   "execution_count": 47,
   "metadata": {},
   "outputs": [
    {
     "name": "stdout",
     "output_type": "stream",
     "text": [
      "[('OCAK', 31), ('ŞUBAT', 28), ('MART', 31), ('NİSAN', 30), ('MAYIS', 31), ('HAZİRAN', 30), ('TEMMUZ', 31), ('AGUSTOS', 31), ('EYLÜL', 30), ('EKİM', 31), ('KASIM', 30), ('ARALIK', 31)]\n"
     ]
    }
   ],
   "source": [
    "AYLAR= {\"OCAK\":31,\n",
    "        \"ŞUBAT\":28,\n",
    "        \"MART\":31,\n",
    "        \"NİSAN\":30,\n",
    "        \"MAYIS\":31,\n",
    "        \"HAZİRAN\":30,\n",
    "        \"TEMMUZ\":31,\n",
    "        \"AGUSTOS\":31,\n",
    "        \"EYLÜL\":30,\n",
    "        \"EKİM\":31,\n",
    "        \"KASIM\":30,\n",
    "        \"ARALIK\":31}\n",
    "print(list(AYLAR.items()))\n",
    "\n",
    "  "
   ]
  },
  {
   "cell_type": "markdown",
   "metadata": {},
   "source": [
    "### 3-)Bilgileri bir önceki listeden alan başka bir ay listesi oluşturun. Bu kez ayları günlerle birlikte listenin içinde iki ayrı listede tutun."
   ]
  },
  {
   "cell_type": "code",
   "execution_count": 40,
   "metadata": {},
   "outputs": [
    {
     "name": "stdout",
     "output_type": "stream",
     "text": [
      "dict_values([31, 28, 31, 30, 31, 30, 31, 31, 30, 31, 30, 31])\n",
      "dict_keys(['OCAK', 'ŞUBAT', 'MART', 'NİSAN', 'MAYIS', 'HAZİRAN', 'TEMMUZ', 'AGUSTOS', 'EYLÜL', 'EKİM', 'KASIM', 'ARALIK'])\n"
     ]
    }
   ],
   "source": [
    "print(AYLAR.values())\n",
    "print(AYLAR.keys())"
   ]
  },
  {
   "cell_type": "markdown",
   "metadata": {},
   "source": [
    "### 4-) Şimdi ise mevsim mevsim ayrılmış ay listeleri oluşturun. Liste adlarına mevsimlerin adlarını verin."
   ]
  },
  {
   "cell_type": "code",
   "execution_count": 53,
   "metadata": {},
   "outputs": [
    {
     "name": "stdout",
     "output_type": "stream",
     "text": [
      "İLKBAHAR: ['MART', 'NİSAN', 'MAYIS']\n",
      "YAZ     : ['HAZİRAN', 'TEMMUZ', 'AGUSTOS']\n",
      "SONBAHAR: ['EYLÜL', 'EKİM', 'KASIM']\n",
      "KIŞ     : ['ARALIK', 'OCAK', 'ŞUBAT']\n"
     ]
    }
   ],
   "source": [
    "MEVSİM=[\"MART\",\"NİSAN\",\"MAYIS\",\"HAZİRAN\",\"TEMMUZ\",\"AGUSTOS\",\"EYLÜL\",\"EKİM\",\"KASIM\",\"ARALIK\",\"OCAK\",\"ŞUBAT\"]\n",
    "\n",
    "print(\"İLKBAHAR:\",MEVSİM[0:3])\n",
    "print(\"YAZ     :\",MEVSİM[3:6])\n",
    "print(\"SONBAHAR:\",MEVSİM[6:9])\n",
    "print(\"KIŞ     :\",MEVSİM[9:12])"
   ]
  },
  {
   "cell_type": "markdown",
   "metadata": {},
   "source": [
    "### 5-)Son olarak, bir önceki sorudaki listeden yaz ayının kaç gün sürdüğünü hesaplayın.\n"
   ]
  },
  {
   "cell_type": "code",
   "execution_count": 72,
   "metadata": {},
   "outputs": [
    {
     "name": "stdout",
     "output_type": "stream",
     "text": [
      "92\n"
     ]
    }
   ],
   "source": [
    "AYLAR_LİST=list(AYLAR.items())\n",
    "print(AYLAR_LİST[6][1]+AYLAR_LİST[7][1]+AYLAR_LİST[8][1])"
   ]
  },
  {
   "cell_type": "code",
   "execution_count": null,
   "metadata": {},
   "outputs": [],
   "source": []
  },
  {
   "cell_type": "code",
   "execution_count": null,
   "metadata": {},
   "outputs": [],
   "source": []
  }
 ],
 "metadata": {
  "kernelspec": {
   "display_name": "Python 3",
   "language": "python",
   "name": "python3"
  },
  "language_info": {
   "codemirror_mode": {
    "name": "ipython",
    "version": 3
   },
   "file_extension": ".py",
   "mimetype": "text/x-python",
   "name": "python",
   "nbconvert_exporter": "python",
   "pygments_lexer": "ipython3",
   "version": "3.7.4"
  }
 },
 "nbformat": 4,
 "nbformat_minor": 2
}
